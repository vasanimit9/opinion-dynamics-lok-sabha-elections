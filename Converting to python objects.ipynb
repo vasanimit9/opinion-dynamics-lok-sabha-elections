{
 "cells": [
  {
   "cell_type": "markdown",
   "metadata": {},
   "source": [
    "## About\n",
    "This notebook has code with which you can convert the data available <a href=\"https://eci.gov.in/statistical-report/statistical-reports/\">Election Commission of India's website</a>"
   ]
  },
  {
   "cell_type": "markdown",
   "metadata": {},
   "source": [
    "## Getting Started\n",
    "To use this notebook directly, you need to clone the repository available <a href=\"https://github.com/vasanimit9/Lok-Sabha-Elections-pickled-dataset\">here</a> in the same directory and name it ```data```.\n",
    "\n",
    "You can use the following command for that:\n",
    "```\n",
    "$ git clone https://github.com/vasanimit9/Lok-Sabha-Elections-pickled-dataset data\n",
    "```"
   ]
  },
  {
   "cell_type": "code",
   "execution_count": 1,
   "metadata": {},
   "outputs": [],
   "source": [
    "import data.classes\n",
    "import sys\n",
    "sys.modules['classes'] = data.classes\n",
    "import numpy as np\n",
    "import pickle\n",
    "from classes import *"
   ]
  },
  {
   "cell_type": "code",
   "execution_count": 2,
   "metadata": {},
   "outputs": [],
   "source": [
    "def convertToElectionObject(name, year, alliance, cw, el, cons_cwi, cons_eli, vots_eli,\\\n",
    "               els_eli, pos_cwi, poll_cwi, party_i, state_eli, cand_cwi):\n",
    "    election = elections(name, year, alliance)\n",
    "    cw_cont = open(cw).read()\n",
    "    el_cont = open(el).read()\n",
    "    cw_cont, el_cont = cw_cont.split('\\n'), el_cont.split('\\n')\n",
    "    for i in el_cont:\n",
    "        try:\n",
    "            e = i.split(\",\")\n",
    "            election.addConstituency(e[cons_eli].strip().lower(), int(e[vots_eli].strip()),\\\n",
    "                                 int(e[els_eli].strip()), e[state_eli].strip().lower())\n",
    "        except:\n",
    "            continue\n",
    "    for i in cw_cont:\n",
    "        try:\n",
    "            c = i.split(\",\")\n",
    "            for j in election.constituencies:\n",
    "                if j.name == c[cons_cwi].strip().lower():\n",
    "                    j.addCandidate(name = c[cand_cwi].strip().lower(), party = c[party_i].strip().upper(),\\\n",
    "                                   constituency = c[cons_cwi].strip().lower(),\\\n",
    "                                   alliance = check(c[party_i].strip().upper(), year),\n",
    "                                   votes = int(c[poll_cwi].strip()), total_votes = int(j.total_voters))\n",
    "                    break\n",
    "        except:\n",
    "            continue\n",
    "    return election"
   ]
  },
  {
   "cell_type": "markdown",
   "metadata": {},
   "source": [
    "## Using convertToElectionObject\n",
    "This function can only be used for Lok Sabha Elections. Convert the two sheets in the Excel file of the elections you want to store as a python object and store them in the same folder as this notebook. Remove the rows that have headings and other information that is not election data\n",
    "\n",
    "You can use the function like this\n",
    "```python\n",
    "kwargs = {\n",
    "  \"name\": \"Lok Sabha\",                           # name of the elections\n",
    "  \"year\": 1999,                                  # the year the elections took place in\n",
    "  \"alliance\": \"NDA\",                             # the alliance that won the elections\n",
    "  \"cw\": \"path/to/the/candidate/wise/sheet/csv\",  # the path to the cand_wise csv\n",
    "  \"el\": \"path/to/the/electors/sheet/csv\",        # the path to the electors csv\n",
    "  \"cons_cwi\": 3,                                 # the column index of constituencies in cand_wise csv\n",
    "  \"cons_eli\": 3,                                 # the column index of constituencies in electors csv\n",
    "  \"vots_eli\": 8,                                 # the column index of voters in electors csv\n",
    "  \"els_eli\": 7,                                  # the column index of electors in electors csv\n",
    "  \"pos_cwi\": -1,                                 # the column index of position in cand_wise\n",
    "  \"poll_cwi\": -2,                                # the column index of total votes polled in electors csv\n",
    "  \"party_i\": -3,                                 # the column index of party in cand_wise csv\n",
    "  \"state_eli\": 1,                                # the column index of state in electors csv\n",
    "  \"cand_cwi\": -5,                                # the column index of candidate names in cand_wise csv\n",
    "}\n",
    "\n",
    "lse1999 = convertToElectionObject(**kwargs)\n",
    "```"
   ]
  }
 ],
 "metadata": {
  "kernelspec": {
   "display_name": "Python 3",
   "language": "python",
   "name": "python3"
  },
  "language_info": {
   "codemirror_mode": {
    "name": "ipython",
    "version": 3
   },
   "file_extension": ".py",
   "mimetype": "text/x-python",
   "name": "python",
   "nbconvert_exporter": "python",
   "pygments_lexer": "ipython3",
   "version": "3.6.9"
  }
 },
 "nbformat": 4,
 "nbformat_minor": 2
}
