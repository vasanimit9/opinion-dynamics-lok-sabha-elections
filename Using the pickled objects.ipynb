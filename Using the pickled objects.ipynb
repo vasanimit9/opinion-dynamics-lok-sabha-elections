{
 "cells": [
  {
   "cell_type": "markdown",
   "metadata": {},
   "source": [
    "## About\n",
    "This notebook has code that maybe used to analyse and store and use the data available on <a href=\"https://eci.gov.in/statistical-report/statistical-reports/\">Election Commission of India's website</a>"
   ]
  },
  {
   "cell_type": "markdown",
   "metadata": {},
   "source": [
    "## Getting Started\n",
    "To use this notebook directly, you need to clone the repository available <a href=\"https://github.com/vasanimit9/Lok-Sabha-Elections-pickled-dataset\">here</a> in the same directory and name it ```data```.\n",
    "\n",
    "You can use the following command for that:\n",
    "```\n",
    "$ git clone https://github.com/vasanimit9/Lok-Sabha-Elections-pickled-dataset data\n",
    "```"
   ]
  },
  {
   "cell_type": "markdown",
   "metadata": {},
   "source": [
    "## The Pickled Dataset\n",
    "There are some files in the repository which end in ```.dat```, those are the pickled python instances of the ```class election``` whose definition you can find in ```data/classes.py```."
   ]
  },
  {
   "cell_type": "code",
   "execution_count": 1,
   "metadata": {},
   "outputs": [],
   "source": [
    "import sys\n",
    "from data import classes\n",
    "sys.modules['classes'] = classes\n",
    "import pickle\n",
    "import os\n",
    "import numpy as np\n",
    "import matplotlib.pyplot as plt"
   ]
  },
  {
   "cell_type": "code",
   "execution_count": 2,
   "metadata": {},
   "outputs": [],
   "source": [
    "lse = {}\n",
    "for i in os.listdir('data'):\n",
    "    if i.split(\".\")[-1] == \"dat\":\n",
    "        f = open(os.path.join('data', i), 'rb')\n",
    "        unpickled_object = pickle.load(f)\n",
    "        f.close()\n",
    "        lse[unpickled_object.year] = unpickled_object"
   ]
  },
  {
   "cell_type": "code",
   "execution_count": 3,
   "metadata": {},
   "outputs": [
    {
     "data": {
      "text/plain": [
       "{2004: <data.classes.elections at 0x7f3467128390>,\n",
       " 2014: <data.classes.elections at 0x7f3467128518>,\n",
       " 1999: <data.classes.elections at 0x7f34384e86a0>,\n",
       " 2009: <data.classes.elections at 0x7f3467128668>}"
      ]
     },
     "execution_count": 3,
     "metadata": {},
     "output_type": "execute_result"
    }
   ],
   "source": [
    "lse"
   ]
  }
 ],
 "metadata": {
  "kernelspec": {
   "display_name": "Python 3",
   "language": "python",
   "name": "python3"
  },
  "language_info": {
   "codemirror_mode": {
    "name": "ipython",
    "version": 3
   },
   "file_extension": ".py",
   "mimetype": "text/x-python",
   "name": "python",
   "nbconvert_exporter": "python",
   "pygments_lexer": "ipython3",
   "version": "3.6.9"
  }
 },
 "nbformat": 4,
 "nbformat_minor": 2
}
